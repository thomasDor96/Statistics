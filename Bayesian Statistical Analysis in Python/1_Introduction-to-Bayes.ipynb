{
 "metadata": {
  "name": "",
  "signature": "sha256:2bf56c415e30b088430ea7c920b2938bf1d8a0da5cc67373933f5fd464c507ea"
 },
 "nbformat": 3,
 "nbformat_minor": 0,
 "worksheets": [
  {
   "cells": [
    {
     "cell_type": "heading",
     "level": 1,
     "metadata": {},
     "source": [
      "An Introduction to Bayesian Statistical Analysis"
     ]
    },
    {
     "cell_type": "markdown",
     "metadata": {},
     "source": [
      "Before we jump in to model-building and using MCMC to do wonderful things, it is useful to understand a few of the theoretical underpinnings of the Bayesian statistical paradigm. A little theory (and I do mean a *little*) goes a long way towards being able to apply the methods correctly and effectively.\n",
      "\n",
      "There are several introductory references to Bayesian statistics that go well beyond what we will cover here.\n",
      "\n",
      "![books](http://d.pr/i/v0ea+)\n",
      "\n",
      "## What *is* Bayesian Statistical Analysis?\n",
      "\n",
      "Though many of you will have taken a statistics course or two during your undergraduate (or graduate) education, most of those who have will likely not have had a course in *Bayesian* statistics. Most introductory courses, particularly for non-statisticians, still do not cover Bayesian methods at all, except perhaps to derive Bayes' formula as a trivial rearrangement of the definition of conditional probability. Even today, Bayesian courses are typically tacked onto the curriculum, rather than being integrated into the program.\n",
      "\n",
      "In fact, Bayesian statistics is not just a particular method, or even a class of methods; it is an entirely different paradigm for doing statistical analysis.\n",
      "\n",
      "> Practical methods for making inferences from data using probability models for quantities we observe and about which we wish to learn.\n",
      "*-- Gelman et al. 2013*\n",
      "\n",
      "A Bayesian model is described by parameters, uncertainty in those parameters is described using probability distributions."
     ]
    },
    {
     "cell_type": "markdown",
     "metadata": {},
     "source": [
      "All conclusions from Bayesian statistical procedures are stated in terms of *probability statements*\n",
      "\n",
      "![](images/prob_model.png)\n",
      "\n",
      "This confers several benefits to the analyst, including:\n",
      "\n",
      "- ease of interpretation, summarization of uncertainty\n",
      "- can incorporate uncertainty in parent parameters\n",
      "- easy to calculate summary statistics"
     ]
    },
    {
     "cell_type": "markdown",
     "metadata": {},
     "source": [
      "## Bayesian vs Frequentist Statistics: What's the difference?\n",
      "\n",
      "See the [VanderPlas talk on Tuesday](https://conference.scipy.org/scipy2014/schedule/presentation/444/).\n",
      "\n",
      "![can of worms](images/can-of-worms.jpg)\n",
      "\n",
      "Any statistical paradigm, Bayesian or otherwise, involves at least the following: \n",
      "\n",
      "1. Some **unknown quantities** about which we are interested in learning or testing. We call these *parameters*.\n",
      "2. Some **data** which have been observed, and hopefully contain information about (1).\n",
      "3. One or more **models** that relate the data to the parameters, and is the instrument that is used to learn.\n"
     ]
    },
    {
     "cell_type": "markdown",
     "metadata": {},
     "source": [
      "### The Frequentist World View\n",
      "\n",
      "![Fisher](images/fisher.png)\n",
      "\n",
      "- The data that have been observed are considered **random**, because they are realizations of random processes, and hence will vary each time one goes to observe the system.\n",
      "- Model parameters are considered **fixed**. The parameters' values are unknown, but they are fixed, and so we *condition* on them.\n",
      "\n",
      "In mathematical notation, this implies a (very) general model of the following form:\n",
      "\n",
      "<div style=\"font-size:35px\">\n",
      "\\\\[f(y | \\theta)\\\\]\n",
      "</div>\n",
      "\n",
      "Here, the model \\\\(f\\\\) accepts data values \\\\(y\\\\) as an argument, conditional on particular values of \\\\(\\theta\\\\).\n",
      "\n",
      "Frequentist inference typically involves deriving **estimators** for the unknown parameters. Estimators are formulae that return estimates for particular estimands, as a function of data. They are selected based on some chosen optimality criterion, such as *unbiasedness*, *variance minimization*, or *efficiency*.\n",
      "\n",
      "> For example, lets say that we have collected some data on the prevalence of autism spectrum disorder (ASD) in some defined population. Our sample includes \\\\(n\\\\) sampled children, \\\\(y\\\\) of them having been diagnosed with autism. A frequentist estimator of the prevalence \\\\(p\\\\) is:\n",
      "\n",
      "> <div style=\"font-size:25px\">\n",
      "> \\\\[\\hat{p} = \\frac{y}{n}\\\\]\n",
      "> </div>\n",
      "\n",
      "> Why this particular function? Because it can be shown to be unbiased and minimum-variance.\n",
      "\n",
      "It is important to note that new estimators need to be derived for every estimand that is introduced.\n",
      "\n",
      "### The Bayesian World View\n",
      "\n",
      "![Bayes](images/bayes.png)\n",
      "\n",
      "- Data are considered **fixed**. They used to be random, but once they were written into your lab notebook/spreadsheet/IPython notebook they do not change.\n",
      "- Model parameters themselves may not be random, but Bayesians use probability distribtutions to describe their uncertainty in parameter values, and are therefore treated as **random**. In some cases, it is useful to consider parameters as having been sampled from probability distributions.\n",
      "\n",
      "This implies the following form:\n",
      "\n",
      "<div style=\"font-size:35px\">\n",
      "\\\\[p(\\theta | y)\\\\]\n",
      "</div>\n",
      "\n",
      "This formulation used to be referred to as ***inverse probability***, because it infers from observations to parameters, or from effects to causes.\n",
      "\n",
      "Bayesians do not seek new estimators for every estimation problem they encounter. There is only one estimator for Bayesian inference: **Bayes' Formula**."
     ]
    },
    {
     "cell_type": "markdown",
     "metadata": {},
     "source": [
      "## Bayesian Inference, in 3 Easy Steps\n",
      "\n",
      "![123](images/123.png)\n",
      "\n",
      "Gelman et al. (2013) describe the process of conducting Bayesian statistical analysis in 3 steps.\n",
      "\n",
      "### Step 1: Specify a probability model\n",
      "\n",
      "As was noted above, Bayesian statistics involves using probability models to solve problems. So, the first task is to *completely specify* the model in terms of probability distributions. This includes everything: unknown parameters, data, covariates, missing data, predictions. All must be assigned some probability density.\n",
      "\n",
      "This step involves making choices.\n",
      "\n",
      "- what is the form of the sampling distribution of the data?\n",
      "- what form best describes our uncertainty in the unknown parameters?\n",
      "\n",
      "### Step 2: Calculate a posterior distribution\n",
      "\n",
      "The mathematical form \\\\(p(\\theta | y)\\\\) that we associated with the Bayesian approach is referred to as a **posterior distribution**.\n",
      "\n",
      "> posterior /pos\u00b7ter\u00b7i\u00b7or/ (pos-t\u0113r\u00b4e-er) later in time; subsequent.\n",
      "\n",
      "Why posterior? Because it tells us what we know about the unknown \\\\(\\theta\\\\) *after* having observed \\\\(y\\\\).\n",
      "\n",
      "This posterior distribution is formulated as a function of the probability model that was specified in Step 1. Usually, we can write it down but we cannot calculate it analytically. In fact, the difficulty inherent in calculating the posterior distribution for most models of interest is perhaps the major contributing factor for the lack of widespread adoption of Bayesian methods for data analysis. Various strategies for doing so comprise this tutorial.\n",
      "\n",
      "**But**, once the posterior distribution is calculated, you get a lot for free:\n",
      "\n",
      "- point estimates\n",
      "- credible intervals\n",
      "- quantiles\n",
      "- predictions\n",
      "\n",
      "### Step 3: Check your model\n",
      "\n",
      "Though frequently ignored in practice, it is critical that the model and its outputs be assessed before using the outputs for inference. Models are specified based on assumptions that are largely unverifiable, so the least we can do is examine the output in detail, relative to the specified model and the data that were used to fit the model.\n",
      "\n",
      "Specifically, we must ask:\n",
      "\n",
      "- does the model fit data?\n",
      "- are the conclusions reasonable?\n",
      "- are the outputs sensitive to changes in model structure?\n"
     ]
    },
    {
     "cell_type": "markdown",
     "metadata": {},
     "source": [
      "## Why be Bayesian?\n",
      "\n",
      "At this point, it is worth addressing the question of why one might consider an alternative statistical paradigm to the classical/frequentist statistical approach. After all, it is not always easy to specify a full probabilistic model, nor to obtain output from the model once it is specified. So, why bother?\n",
      "\n",
      "> ... the Bayesian approach is attractive because it is useful. Its usefulness derives in large measure from its simplicity. Its simplicity allows the investigation of far more complex models than can be handled by the tools in the classical toolbox.  \n",
      "*-- Link and Barker 2010*\n",
      "\n",
      "We already noted that there is just one estimator in Bayesian inference, which lends to its ***simplicity***. Moreover, Bayes affords a conceptually simple way of coping with multiple parameters; the use of probabilistic models allows very complex models to be assembled in a modular fashion, by factoring a large joint model into the product of several conditional probabilities.\n",
      "\n",
      "Bayesian statistics is also attractive for its ***coherence***. All unknown quantities for a particular problem are treated as random variables, to be estimated in the same way. Existing knowledge is given precise mathematical expression, allowing it to be integrated with information from the study dataset, and there is formal mechanism for incorporating new information into an existing analysis.\n",
      "\n",
      "Finally, Bayesian statistics confers an advantage in the ***iterpretability*** of analytic outputs. Because models are expressed probabilistically, results can be interpreted probabilistically. Probabilities are easy for users (particularly non-technical users) to understand and apply."
     ]
    },
    {
     "cell_type": "markdown",
     "metadata": {},
     "source": [
      "### Example: confidence vs. credible intervals\n",
      "\n",
      "A commonly-used measure of uncertainty for a statistical point estimate in classical statistics is the ***confidence interval***. Most scientists were introduced to the confidence interval during their introductory statistics course(s) in college. Yet, a large number of users mis-interpret the confidence interval.\n",
      "\n",
      "Here is the mathematical definition of a 95% confidence interval for some unknown scalar quantity that we will here call \\\\(\\theta\\\\):\n",
      "\n",
      "<div style=\"font-size:25px\">\n",
      "\\\\[Pr(a(Y) < \\theta < b(Y) | \\theta) = 0.95\\\\]\n",
      "</div>\n",
      "\n",
      "how the endpoints of this interval are calculated varies according to the sampling distribution of \\\\(Y\\\\), but for as an example, the confidence interval for the population mean when \\\\(Y\\\\) is normally distributed is calculated by:\n",
      "\n",
      "\\\\[Pr(\\bar{Y} - 1.96\\frac{\\sigma}{\\sqrt{n}}< \\theta < \\bar{Y} + 1.96\\frac{\\sigma}{\\sqrt{n}}) = 0.95\\\\]\n",
      "\n",
      "It would be tempting to use this definition to conclude that there is a 95% chance \\\\(\\theta\\\\) is between \\\\(a(Y)\\\\) and \\\\(b(Y)\\\\), but that would be a mistake. \n",
      "\n",
      "Recall that for frequentists, unknown parameters are **fixed**, which means there is no probability associated with them being any value except what they are fixed to. Here, the interval itself, and not \\\\(\\theta\\\\) is the random variable. The actual interval calculated from the data is just one possible realization of a random process, and it must be strictly interpreted only in relation to an infinite sequence of identical trials that might be (but never are) conducted in practice.\n",
      "\n",
      "A valid interpretation of the above would be:\n",
      "\n",
      "> If the experiment were repeated an infinite number of times, 95% of the calculated intervals would contain \\\\(\\theta\\\\).\n",
      "\n",
      "This is what the statistical notion of \"confidence\" entails, and this sets it apart from probability intervals.\n",
      "\n",
      "Since they regard unknown parameters as random variables, Bayesians can and do use probability intervals to describe what is known about the value of an unknown quantity. These intervals are commonly known as ***credible intervals***.\n",
      "\n",
      "The definition of a 95% credible interval is:\n",
      "\n",
      "<div style=\"font-size:25px\">\n",
      "\\\\[Pr(a(y) < \\theta < b(y) | Y=y) = 0.95\\\\]\n",
      "</div>\n",
      "\n",
      "Notice that we condition here on the data \\\\(y\\\\) instead of the unknown \\\\(\\theta\\\\). Thus, the endpoints are fixed and the variable is random. \n",
      "\n",
      "We are allowed to interpret this interval as:\n",
      "\n",
      "> There is a 95% chance \\\\(\\theta\\\\) is between \\\\(a\\\\) and \\\\(b\\\\).\n",
      "\n",
      "Hence, the credible interval is a statement of what we know about the value of \\\\(\\theta\\\\) based on the observed data."
     ]
    },
    {
     "cell_type": "markdown",
     "metadata": {},
     "source": [
      "## Probability\n",
      "\n",
      "> *Misunderstanding of probability may be the greatest of all impediments to scientific literacy.*\n",
      "> \u2014 Stephen Jay Gould\n",
      "\n",
      "Because of its reliance on probabilty models, its worth talking a little bit about probability. There are three different ways to define probability, depending on how it is being used.\n",
      "\n",
      "### 1. Classical probability\n",
      "\n",
      "<div style=\"font-size:25px\">\n",
      "\\\\[Pr(X=x) = \\frac{\\text{# x outcomes}}{\\text{# possible outcomes}}\\\\]\n",
      "</div>\n",
      "\n",
      "Classical probability is an assessment of **possible** outcomes of elementary events. Elementary events are assumed to be equally likely.\n",
      "\n",
      "### 2. Frequentist probability\n",
      "\n",
      "<div style=\"font-size:25px\">\n",
      "\\\\[Pr(X=x) = \\lim_{n \\rightarrow \\infty} \\frac{\\text{# times x has occurred}}{\\text{# independent and identical trials}}\\\\]\n",
      "</div>\n",
      "\n",
      "Unlike classical probability, frequentist probability is an EMPIRICAL definition. It is an objective statement desribing events that have occurred.\n",
      "\n",
      "### 3. Subjective probability\n",
      "\n",
      "<div style=\"font-size:25px\">\n",
      "\\\\[Pr(X=x)\\\\]\n",
      "</div>\n",
      "\n",
      "Subjective probability is a measure of one's uncertainty in the value of \\\\(X\\\\). It characterizes the state of knowledge regarding some unknown quantity using probability.\n",
      "\n",
      "It is not associated with long-term frequencies nor with equal-probability events.\n",
      "\n",
      "For example:\n",
      "\n",
      "- X = the true prevalence of diabetes in Austin is < 15%\n",
      "- X = the blood type of the person sitting next to you is type A\n",
      "- X = the Nashville Predators will win next year's Stanley Cup\n",
      "- X = it is raining in Nashville\n"
     ]
    },
    {
     "cell_type": "markdown",
     "metadata": {},
     "source": [
      "## Probability distributions\n",
      "\n",
      "Bayesian inference uses probability distributions as building blocks for specifying models. They are used to assign uncertainty to unknown parameters, or sampling distributions to data. \n",
      "\n",
      "Probability distributions assign probabilities to each possible outcome or value of a particular variable. Probabilities must be **positive**, and the sum (or integral) of the probabilities of all possible values must be 1.\n",
      "\n",
      "There are two distinct classes of distributions, determined by whether the variable being described is **discrete** or **continuous**.\n",
      "\n",
      "### Discrete Probability Distributions\n",
      "\n",
      "$$X = \\{0,1\\}$$\n",
      "\n",
      "$$Y = \\{\\ldots,-2,-1,0,1,2,\\ldots\\}$$\n",
      "\n",
      "**Probability Mass Function**: \n",
      "\n",
      "For discrete $X$,\n",
      "\n",
      "$$Pr(X=x) = f(x|\\theta)$$\n",
      "\n",
      "![Discrete variable](http://upload.wikimedia.org/wikipedia/commons/1/16/Poisson_pmf.svg)"
     ]
    },
    {
     "cell_type": "markdown",
     "metadata": {},
     "source": [
      "***e.g. Poisson distribution***\n",
      "\n",
      "The Poisson distribution models unbounded counts:\n",
      "\n",
      "<div style=\"font-size: 150%;\">  \n",
      "$$Pr(X=x)=\\frac{e^{-\\lambda}\\lambda^x}{x!}$$\n",
      "</div>\n",
      "\n",
      "* $X=\\{0,1,2,\\ldots\\}$\n",
      "* $\\lambda > 0$\n",
      "\n",
      "$$E(X) = \\text{Var}(X) = \\lambda$$"
     ]
    },
    {
     "cell_type": "code",
     "collapsed": false,
     "input": [
      "%matplotlib inline\n",
      "import numpy as np\n",
      "from scipy import stats\n",
      "import matplotlib.pyplot as plt\n",
      "\n",
      "theta = 3\n",
      "x = np.random.poisson(theta, size=1000)\n",
      "x.mean(), x.var()"
     ],
     "language": "python",
     "metadata": {},
     "outputs": [
      {
       "metadata": {},
       "output_type": "pyout",
       "prompt_number": 1,
       "text": [
        "(2.9500000000000002, 3.1594999999999929)"
       ]
      }
     ],
     "prompt_number": 1
    },
    {
     "cell_type": "code",
     "collapsed": false,
     "input": [
      "_ = plt.hist(x, bins=30)"
     ],
     "language": "python",
     "metadata": {},
     "outputs": [
      {
       "metadata": {},
       "output_type": "display_data",
       "png": "[encoded data removed]",
       "text": [
        "<matplotlib.figure.Figure at 0x11053f7d0>"
       ]
      }
     ],
     "prompt_number": 2
    },
    {
     "cell_type": "code",
     "collapsed": false,
     "input": [
      "y = stats.poisson.pmf(range(10), theta)\n",
      "plt.plot(y, 'ro')"
     ],
     "language": "python",
     "metadata": {},
     "outputs": [
      {
       "metadata": {},
       "output_type": "pyout",
       "prompt_number": 3,
       "text": [
        "[<matplotlib.lines.Line2D at 0x112dd3b90>]"
       ]
      },
      {
       "metadata": {},
       "output_type": "display_data",
       "png": "[encoded data removed]",
       "text": [
        "<matplotlib.figure.Figure at 0x112daf790>"
       ]
      }
     ],
     "prompt_number": 3
    },
    {
     "cell_type": "markdown",
     "metadata": {},
     "source": [
      "### Continuous Random Variables\n",
      "\n",
      "$$X \\in [0,1]$$\n",
      "\n",
      "$$Y \\in (-\\infty, \\infty)$$\n",
      "\n",
      "**Probability Density Function**: \n",
      "\n",
      "For continuous $X$,\n",
      "\n",
      "$$Pr(x \\le X \\le x + dx) = f(x|\\theta)dx \\, \\text{ as } \\, dx \\rightarrow 0$$\n",
      "\n",
      "![Continuous variable](http://upload.wikimedia.org/wikipedia/commons/e/ec/Exponential_pdf.svg)"
     ]
    },
    {
     "cell_type": "markdown",
     "metadata": {},
     "source": [
      "***e.g. normal distribution***\n",
      "\n",
      "<div style=\"font-size: 150%;\">  \n",
      "$$f(x) = \\frac{1}{\\sqrt{2\\pi\\sigma^2}}\\exp\\left[-\\frac{(x-\\mu)^2}{2\\sigma^2}\\right]$$\n",
      "</div>\n",
      "\n",
      "* $X \\in \\mathbf{R}$\n",
      "* $\\mu \\in \\mathbf{R}$\n",
      "* $\\sigma>0$\n",
      "\n",
      "$$\\begin{align}E(X) &= \\mu \\cr\n",
      "\\text{Var}(X) &= \\sigma^2 \\end{align}$$"
     ]
    },
    {
     "cell_type": "code",
     "collapsed": false,
     "input": [
      "mu, sig = 10, 3\n",
      "\n",
      "x = np.random.normal(mu, sig, 1000)\n",
      "x.mean(), x.std()"
     ],
     "language": "python",
     "metadata": {},
     "outputs": [
      {
       "metadata": {},
       "output_type": "pyout",
       "prompt_number": 4,
       "text": [
        "(9.9980174423479724, 2.990905875326102)"
       ]
      }
     ],
     "prompt_number": 4
    },
    {
     "cell_type": "code",
     "collapsed": false,
     "input": [
      "_ = plt.hist(x, bins=30)"
     ],
     "language": "python",
     "metadata": {},
     "outputs": [
      {
       "metadata": {},
       "output_type": "display_data",
       "png": "[encoded data removed]",
       "text": [
        "<matplotlib.figure.Figure at 0x112e383d0>"
       ]
      }
     ],
     "prompt_number": 5
    },
    {
     "cell_type": "code",
     "collapsed": false,
     "input": [
      "xvals = np.linspace(-10, 30)\n",
      "y = stats.norm.pdf(xvals, mu, sig)\n",
      "plt.plot(xvals, y, 'ro')"
     ],
     "language": "python",
     "metadata": {},
     "outputs": [
      {
       "metadata": {},
       "output_type": "pyout",
       "prompt_number": 6,
       "text": [
        "[<matplotlib.lines.Line2D at 0x112e65fd0>]"
       ]
      },
      {
       "metadata": {},
       "output_type": "display_data",
       "png": "[encoded data removed]",
       "text": [
        "<matplotlib.figure.Figure at 0x112d62d50>"
       ]
      }
     ],
     "prompt_number": 6
    },
    {
     "cell_type": "markdown",
     "metadata": {},
     "source": [
      "As a reference, the PyMC provides a description of most of the commonly-encountered probability distibutions used in statistical analysis."
     ]
    },
    {
     "cell_type": "code",
     "collapsed": false,
     "input": [
      "from IPython.display import HTML\n",
      "HTML('<iframe src=http://pymc-devs.github.io/pymc/distributions.html width=900 height=350></iframe>')"
     ],
     "language": "python",
     "metadata": {},
     "outputs": [
      {
       "html": [
        "<iframe src=http://pymc-devs.github.io/pymc/distributions.html width=900 height=350></iframe>"
       ],
       "metadata": {},
       "output_type": "pyout",
       "prompt_number": 7,
       "text": [
        "<IPython.core.display.HTML object>"
       ]
      }
     ],
     "prompt_number": 7
    },
    {
     "cell_type": "markdown",
     "metadata": {},
     "source": [
      "## Bayes' Formula\n",
      "\n",
      "Now that we have some probability under our belt, we turn to Bayes' formula. This, as you recall, is the engine that allows us to obtain estimates of unknown quantities that we care about, using information retained by the data we observe. It turns out to be quite simple to derive Bayes' formula directly from the definition of conditional probability.\n",
      "\n",
      "Again, the goal in Bayesian inference is to calculate the **posterior distribution** of our unknowns:\n",
      "\n",
      "<div style=\"font-size: 150%;\">  \n",
      "\\\\[Pr(\\theta|Y=y)\\\\]\n",
      "</div>\n",
      "\n",
      "This expression is a **conditional probability**. It is the probability of \\\\(\\theta\\\\) *given* the observed values of \\\\(Y=y\\\\).\n",
      "\n",
      "In general, the conditional probability of A given B is defined as follows:\n",
      "\n",
      "\\\\[Pr(B|A) = \\frac{Pr(A \\cap B)}{Pr(A)}\\\\]\n",
      "\n",
      "To gain an intuition for this, it is helpful to use a Venn diagram:\n",
      "\n",
      "![conditional probability](images/conditional.png)\n",
      "\n",
      "Notice from this diagram that the following conditional probability is also true:\n",
      "\n",
      "\\\\[Pr(A|B) = \\frac{Pr(A \\cap B)}{Pr(B)}\\\\]\n",
      "\n",
      "These can both be rearranged to be expressions of the joint probability of A and B. Setting these equal to one another:\n",
      "\n",
      "\\\\[Pr(B|A)Pr(A) = Pr(A|B)Pr(B)\\\\]\n",
      "\n",
      "Then rearranging:\n",
      "\n",
      "\\\\[Pr(B|A) = \\frac{Pr(A|B)Pr(B)}{Pr(A)}\\\\]\n",
      "\n",
      "This is Bayes' formula. Replacing the generic A and B with things we care about reveals why Bayes' formula is so important:\n",
      "\n",
      "![bayes formula](images/bayes_formula.png)\n",
      "\n",
      "The equation expresses how our belief about the value of \\\\(\\theta\\\\), as expressed by the **prior distribution** \\\\(P(\\theta)\\\\) is reallocated following the observation of the data \\\\(y\\\\), as expressed by the posterior distribution the posterior distribution.\n",
      "\n",
      "The innocuous denominator \\\\(P(y)\\\\) cannot be calculated directly, and is actually the expression in the numerator, integrated over all \\\\(\\theta\\\\):\n",
      "\n",
      "<div style=\"font-size: 150%;\">  \n",
      "\\\\[Pr(\\theta|y) = \\frac{Pr(y|\\theta)Pr(\\theta)}{\\int Pr(y|\\theta)Pr(\\theta) d\\theta}\\\\]\n",
      "</div>\n",
      "\n",
      "The intractability of this integral is one of the factors that has contributed to the under-utilization of Bayesian methods by statisticians.\n",
      "\n",
      "### Priors\n",
      "\n",
      "Once considered a controversial aspect of Bayesian analysis, the prior distribution characterizes what is known about an unknown quantity before observing the data from the present study. Thus, it represents the information state of that parameter. It can be used to reflect the information obtained in previous studies, to constrain the parameter to plausible values, or to represent the population of possible parameter values, of which the current study's parameter value can be considered a sample.\n",
      "\n",
      "### Likelihood functions\n",
      "\n",
      "The likelihood represents the information in the observed data, and is used to update prior distributions to posterior distributions. This updating of belief is justified becuase of the **likelihood principle**, which states:\n",
      "\n",
      "> Following observation of \\\\(y\\\\), the likelihood \\\\(L(\\theta|y)\\\\) contains all experimental information from \\\\(y\\\\) about the unknown \\\\(\\theta\\\\).\n",
      "\n",
      "Bayesian analysis satisfies the likelihood principle because the posterior distribution's dependence on the data is only through the likelihood. In comparison, most frequentist inference procedures violate the likelihood principle, because inference will depend on the design of the trial or experiment.\n",
      "\n",
      "What is a likelihood function? It is closely related to the probability density (or mass) function. Taking a common example, consider some data that are binomially distributed (that is, they describe the outcomes of \\\\(n\\\\) binary events). Here is the binomial sampling distribution:\n",
      "\n",
      "\\\\[p(Y|\\theta) = {n \\choose y} \\theta^{y} (1-\\theta)^{n-y}\\\\]\n",
      "\n",
      "We can code this easily in Python:"
     ]
    },
    {
     "cell_type": "code",
     "collapsed": false,
     "input": [
      "from scipy.misc import comb\n",
      "\n",
      "pbinom = lambda y, n, p: comb(n, y) * p**y * (1-p)**(n-y)"
     ],
     "language": "python",
     "metadata": {},
     "outputs": [],
     "prompt_number": 8
    },
    {
     "cell_type": "markdown",
     "metadata": {},
     "source": [
      "This function returns the probability of observing \\\\(y\\\\) events from \\\\(n\\\\) trials, where events occur independently with probability \\\\(p\\\\)."
     ]
    },
    {
     "cell_type": "code",
     "collapsed": false,
     "input": [
      "pbinom(3, 10, 0.5)"
     ],
     "language": "python",
     "metadata": {},
     "outputs": [
      {
       "metadata": {},
       "output_type": "pyout",
       "prompt_number": 9,
       "text": [
        "0.1171875"
       ]
      }
     ],
     "prompt_number": 9
    },
    {
     "cell_type": "code",
     "collapsed": false,
     "input": [
      "pbinom(1, 25, 0.5)"
     ],
     "language": "python",
     "metadata": {},
     "outputs": [
      {
       "metadata": {},
       "output_type": "pyout",
       "prompt_number": 10,
       "text": [
        "7.4505805969238281e-07"
       ]
      }
     ],
     "prompt_number": 10
    },
    {
     "cell_type": "code",
     "collapsed": false,
     "input": [
      "yvals = range(10+1)\n",
      "plt.plot(yvals, [pbinom(y, 10, 0.5) for y in yvals], 'ro')"
     ],
     "language": "python",
     "metadata": {},
     "outputs": [
      {
       "metadata": {},
       "output_type": "pyout",
       "prompt_number": 11,
       "text": [
        "[<matplotlib.lines.Line2D at 0x112db1f90>]"
       ]
      },
      {
       "metadata": {},
       "output_type": "display_data",
       "png": "[encoded data removed]",
       "text": [
        "<matplotlib.figure.Figure at 0x112ed95d0>"
       ]
      }
     ],
     "prompt_number": 11
    },
    {
     "cell_type": "markdown",
     "metadata": {},
     "source": [
      "What about the likelihood function? \n",
      "\n",
      "The likelihood function is the exact same form as the sampling distribution, except that we are now interested in varying the parameter for a given dataset."
     ]
    },
    {
     "cell_type": "code",
     "collapsed": false,
     "input": [
      "pvals = np.linspace(0, 1)\n",
      "y = 4\n",
      "plt.plot(pvals, [pbinom(y, 10, p) for p in pvals])"
     ],
     "language": "python",
     "metadata": {},
     "outputs": [
      {
       "metadata": {},
       "output_type": "pyout",
       "prompt_number": 12,
       "text": [
        "[<matplotlib.lines.Line2D at 0x112da8b50>]"
       ]
      },
      {
       "metadata": {},
       "output_type": "display_data",
       "png": "[encoded data removed]",
       "text": [
        "<matplotlib.figure.Figure at 0x112d75410>"
       ]
      }
     ],
     "prompt_number": 12
    },
    {
     "cell_type": "markdown",
     "metadata": {},
     "source": [
      "So, though we are dealing with the same equation, these are entirely different functions; the distribution is discrete, while the likelihood is continuous; the distribtion's range is from 0 to 10, while the likelihood's is 0 to 1; the distribution integrates (sums) to one, while the likelhood does not."
     ]
    },
    {
     "cell_type": "markdown",
     "metadata": {},
     "source": [
      "## Example: Genetic probabilities\n",
      "\n",
      "Let's put Bayesian inference into action using a very simple example. I've chosen this example because it is one of the rare occasions where the posterior can be calculated by hand. We will show how data can be used to update our belief in competing hypotheses.\n",
      "\n",
      "Hemophilia is a rare genetic disorder that impairs the ability for the body's clotting factors to coagualate the blood in response to broken blood vessels. The disease is an **x-linked recessive** trait, meaning that there is only one copy of the gene in males but two in females, and the trait can be masked by the dominant allele of the gene. \n",
      "\n",
      "This implies that males with 1 gene are *affected*, while females with 1 gene are unaffected, but *carriers* of the disease. Having 2 copies of the disease is fatal, so this genotype does not exist in the population.\n",
      "\n",
      "In this example, consider a woman whose mother is a carrier (because her brother is affected) and who marries an unaffected man. Let's now observe some data: the woman has two consecutive (non-twin) sons who are unaffected. We are interested in determining **if the woman is a carrier**.\n",
      "\n",
      "![hemophilia](images/hemophilia.png)\n",
      "\n",
      "To set up this problem, we need to set up our probability model. The unknown quantity of interest is simply an indicator variable \\\\(W\\\\) that equals 1 if the woman is affected, and zero if she is not. We are interested in the probability that the variable equals one, given what we have observed:\n",
      "\n",
      "\\\\[Pr(W=1 | s_1=0, s_2=0)\\\\]\n",
      "\n",
      "Our prior information is based on what we know about the woman's ancestry: her mother was a carrier. Hence, the prior is \\\\(Pr(W=1) = 0.5\\\\). Another way of expressing this is in terms of the **prior odds**, or:\n",
      "\n",
      "\\\\[O(W=1) = \\frac{Pr(W=1)}{Pr(W=0)} = 1\\\\]\n",
      "\n",
      "Now for the likelihood: The form of this function is:\n",
      "\n",
      "\\\\[L(W | s_1=0, s_2=0)\\\\]\n",
      "\n",
      "This can be calculated as the probability of observing the data for any passed value for the parameter. For this simple problem, the likelihood takes only two possible values:\n",
      "\n",
      "\\\\[\\begin{aligned}\n",
      "L(W=1 &| s_1=0, s_2=0) = (0.5)(0.5) = 0.25 \\cr\n",
      "L(W=0 &| s_1=0, s_2=0) = (1)(1) = 1\n",
      "\\end{aligned}\\\\]\n",
      "\n",
      "With all the pieces in place, we can now apply Bayes' formula to calculate the posterior probability that the woman is a carrier:\n",
      "\n",
      "\\\\[\\begin{aligned}\n",
      "Pr(W=1 | s_1=0, s_2=0) &= \\frac{L(W=1 | s_1=0, s_2=0) Pr(W=1)}{L(W=1 | s_1=0, s_2=0) Pr(W=1) + L(W=0 | s_1=0, s_2=0) Pr(W=0)} \\cr\n",
      " &= \\frac{(0.25)(0.5)}{(0.25)(0.5) + (1)(0.5)} \\cr\n",
      " &= 0.2\n",
      "\\end{aligned}\\\\]\n",
      "\n",
      "Hence, there is a 0.2 probability of the woman being a carrier.\n",
      "\n",
      "Its a bit trivial, but we can code this in Python:"
     ]
    },
    {
     "cell_type": "code",
     "collapsed": false,
     "input": [
      "prior = 0.5\n",
      "p = 0.5\n",
      "\n",
      "L = lambda w, s: np.prod([(1-i, p**i * (1-p)**(1-i))[w] for i in s])"
     ],
     "language": "python",
     "metadata": {},
     "outputs": [],
     "prompt_number": 13
    },
    {
     "cell_type": "code",
     "collapsed": false,
     "input": [
      "s = [0,0]\n",
      "\n",
      "post = L(1, s) * prior / (L(1, s) * prior + L(0, s) * (1 - prior))\n",
      "post"
     ],
     "language": "python",
     "metadata": {},
     "outputs": [
      {
       "metadata": {},
       "output_type": "pyout",
       "prompt_number": 14,
       "text": [
        "0.20000000000000001"
       ]
      }
     ],
     "prompt_number": 14
    },
    {
     "cell_type": "markdown",
     "metadata": {},
     "source": [
      "Now, what happens if the woman has a third unaffected child? What is our estimate of her probability of being a carrier then? \n",
      "\n",
      "Bayes' formula makes it easy to update analyses with new information, in a sequential fashion. We simply assign the posterior from the previous analysis to be the prior for the new analysis, and proceed as before:"
     ]
    },
    {
     "cell_type": "code",
     "collapsed": false,
     "input": [
      "L(1, [0])"
     ],
     "language": "python",
     "metadata": {},
     "outputs": [
      {
       "metadata": {},
       "output_type": "pyout",
       "prompt_number": 15,
       "text": [
        "0.5"
       ]
      }
     ],
     "prompt_number": 15
    },
    {
     "cell_type": "code",
     "collapsed": false,
     "input": [
      "s = [0]\n",
      "prior = post\n",
      "\n",
      "L(1, s) * prior / (L(1, s) * prior + L(0, s) * (1 - prior))"
     ],
     "language": "python",
     "metadata": {},
     "outputs": [
      {
       "metadata": {},
       "output_type": "pyout",
       "prompt_number": 16,
       "text": [
        "0.11111111111111112"
       ]
      }
     ],
     "prompt_number": 16
    },
    {
     "cell_type": "markdown",
     "metadata": {},
     "source": [
      "Thus, observing a third unaffected child has further reduced our belief that the mother is a carrier."
     ]
    },
    {
     "cell_type": "markdown",
     "metadata": {},
     "source": [
      "---"
     ]
    },
    {
     "cell_type": "markdown",
     "metadata": {},
     "source": [
      "## References\n",
      "\n",
      "Gelman A, Carlin JB, Stern HS, Dunson DB, Vehtari A, Rubin DB. Bayesian Data Analysis, Third Edition. CRC Press; 2013."
     ]
    },
    {
     "cell_type": "code",
     "collapsed": false,
     "input": [
      "from IPython.core.display import HTML\n",
      "def css_styling():\n",
      "    styles = open(\"styles/custom.css\", \"r\").read()\n",
      "    return HTML(styles)\n",
      "css_styling()"
     ],
     "language": "python",
     "metadata": {},
     "outputs": [
      {
       "html": [
        "<style>\n",
        "    @font-face {\n",
        "        font-family: \"Computer Modern\";\n",
        "        src: url('http://mirrors.ctan.org/fonts/cm-unicode/fonts/otf/cmunss.otf');\n",
        "    }\n",
        "    div.cell{\n",
        "        width: 90%;\n",
        "/*        margin-left:auto;*/\n",
        "/*        margin-right:auto;*/\n",
        "    }\n",
        "    ul {\n",
        "        line-height: 145%;\n",
        "        font-size: 90%;\n",
        "    }\n",
        "    li {\n",
        "        margin-bottom: 1em;\n",
        "    }\n",
        "    h1 {\n",
        "        font-family: Helvetica, serif;\n",
        "    }\n",
        "    h4{\n",
        "        margin-top: 12px;\n",
        "        margin-bottom: 3px;\n",
        "       }\n",
        "    div.text_cell_render{\n",
        "        font-family: Computer Modern, \"Helvetica Neue\", Arial, Helvetica, Geneva, sans-serif;\n",
        "        line-height: 145%;\n",
        "        font-size: 130%;\n",
        "        width: 90%;\n",
        "        margin-left:auto;\n",
        "        margin-right:auto;\n",
        "    }\n",
        "    .CodeMirror{\n",
        "            font-family: \"Source Code Pro\", source-code-pro,Consolas, monospace;\n",
        "    }\n",
        "/*    .prompt{\n",
        "        display: None;\n",
        "    }*/\n",
        "    .text_cell_render h5 {\n",
        "        font-weight: 300;\n",
        "        font-size: 16pt;\n",
        "        color: #4057A1;\n",
        "        font-style: italic;\n",
        "        margin-bottom: 0.5em;\n",
        "        margin-top: 0.5em;\n",
        "        display: block;\n",
        "    }\n",
        "\n",
        "    .warning{\n",
        "        color: rgb( 240, 20, 20 )\n",
        "        }\n",
        "</style>\n",
        "<script>\n",
        "    MathJax.Hub.Config({\n",
        "                        TeX: {\n",
        "                           extensions: [\"AMSmath.js\"]\n",
        "                           },\n",
        "                tex2jax: {\n",
        "                    inlineMath: [ ['$','$'], [\"\\\\(\",\"\\\\)\"] ],\n",
        "                    displayMath: [ ['$$','$$'], [\"\\\\[\",\"\\\\]\"] ]\n",
        "                },\n",
        "                displayAlign: 'center', // Change this to 'center' to center equations.\n",
        "                \"HTML-CSS\": {\n",
        "                    styles: {'.MathJax_Display': {\"margin\": 4}}\n",
        "                }\n",
        "        });\n",
        "</script>\n"
       ],
       "metadata": {},
       "output_type": "pyout",
       "prompt_number": 17,
       "text": [
        "<IPython.core.display.HTML object>"
       ]
      }
     ],
     "prompt_number": 17
    }
   ],
   "metadata": {}
  }
 ]
}
